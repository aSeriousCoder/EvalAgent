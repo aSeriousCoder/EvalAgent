{
 "cells": [
  {
   "cell_type": "code",
   "execution_count": 1,
   "metadata": {},
   "outputs": [],
   "source": [
    "from experiment_frame import ExperimentFrame"
   ]
  },
  {
   "cell_type": "code",
   "execution_count": 2,
   "metadata": {},
   "outputs": [
    {
     "name": "stdout",
     "output_type": "stream",
     "text": [
      "Processing 1 / 33\n",
      "Processing 2 / 33\n",
      "Processing 3 / 33\n",
      "Processing 4 / 33\n",
      "Processing 5 / 33\n",
      "Processing 6 / 33\n",
      "Processing 7 / 33\n",
      "Processing 8 / 33\n",
      "Processing 9 / 33\n",
      "Processing 10 / 33\n",
      "Processing 11 / 33\n",
      "Processing 12 / 33\n",
      "Processing 13 / 33\n",
      "Processing 14 / 33\n",
      "Processing 15 / 33\n",
      "Processing 16 / 33\n",
      "Processing 17 / 33\n",
      "Processing 18 / 33\n",
      "Processing 19 / 33\n",
      "Processing 20 / 33\n",
      "AUC: 0.7424242424242424, MRR: 0.6752525252525252, NDCG: 0.7562649658364153\n",
      "Processing 21 / 33\n",
      "Processing 22 / 33\n",
      "Error updating long-term memory: Error code: 400 - {'error': {'message': \"'$.input' is invalid. Please check the API reference: https://platform.openai.com/docs/api-reference.\", 'type': 'invalid_request_error', 'param': None, 'code': None}}\n",
      "Processing 23 / 33\n",
      "Processing 24 / 33\n",
      "Processing 25 / 33\n",
      "Processing 26 / 33\n",
      "Processing 27 / 33\n",
      "Error updating long-term memory: Error code: 400 - {'error': {'message': \"'$.input' is invalid. Please check the API reference: https://platform.openai.com/docs/api-reference.\", 'type': 'invalid_request_error', 'param': None, 'code': None}}\n",
      "Processing 28 / 33\n",
      "Processing 29 / 33\n",
      "Processing 30 / 33\n",
      "AUC: 0.8049999999999999, MRR: 0.7423333333333332, NDCG: 0.8069906626663215\n",
      "Processing 31 / 33\n",
      "Processing 32 / 33\n",
      "Processing 33 / 33\n",
      "AUC: 0.8018867924528301, MRR: 0.7349056603773584, NDCG: 0.8015181676771232\n"
     ]
    }
   ],
   "source": [
    "ExperimentFrame(\"evalagent\", \"gpt-4o\", \"toy\").run()"
   ]
  },
  {
   "cell_type": "code",
   "execution_count": 3,
   "metadata": {},
   "outputs": [
    {
     "name": "stdout",
     "output_type": "stream",
     "text": [
      "Processing 1 / 33\n",
      "Processing 2 / 33\n",
      "Processing 3 / 33\n",
      "Processing 4 / 33\n",
      "Processing 5 / 33\n",
      "Processing 6 / 33\n",
      "Processing 7 / 33\n",
      "Processing 8 / 33\n",
      "Processing 9 / 33\n",
      "Processing 10 / 33\n",
      "AUC: 0.6833333333333333, MRR: 0.5833333333333334, NDCG: 0.687716579233734\n",
      "Processing 11 / 33\n",
      "Processing 12 / 33\n",
      "Processing 13 / 33\n",
      "Processing 14 / 33\n",
      "Processing 15 / 33\n",
      "Processing 16 / 33\n",
      "Processing 17 / 33\n",
      "Processing 18 / 33\n",
      "Processing 19 / 33\n",
      "Processing 20 / 33\n",
      "AUC: 0.7196969696969697, MRR: 0.6085858585858586, NDCG: 0.7072565970542981\n",
      "Processing 21 / 33\n",
      "Processing 22 / 33\n",
      "Processing 23 / 33\n",
      "Processing 24 / 33\n",
      "Processing 25 / 33\n",
      "Processing 26 / 33\n",
      "Processing 27 / 33\n",
      "Processing 28 / 33\n",
      "Processing 29 / 33\n",
      "Processing 30 / 33\n",
      "AUC: 0.75, MRR: 0.6466666666666666, NDCG: 0.7358772655030212\n",
      "Processing 31 / 33\n",
      "Processing 32 / 33\n",
      "Processing 33 / 33\n",
      "AUC: 0.7452830188679245, MRR: 0.6430817610062892, NDCG: 0.7331220676753946\n"
     ]
    }
   ],
   "source": [
    "ExperimentFrame(\"evalagent\", \"deepseek-chat\", \"toy\").run()"
   ]
  },
  {
   "cell_type": "code",
   "execution_count": 4,
   "metadata": {},
   "outputs": [
    {
     "name": "stdout",
     "output_type": "stream",
     "text": [
      "Processing 1 / 33\n",
      "Processing 2 / 33\n",
      "Processing 3 / 33\n",
      "Processing 4 / 33\n",
      "Processing 5 / 33\n",
      "Processing 6 / 33\n",
      "Processing 7 / 33\n",
      "Processing 8 / 33\n",
      "Processing 9 / 33\n",
      "Processing 10 / 33\n",
      "AUC: 0.6, MRR: 0.5544444444444444, NDCG: 0.6639016366269089\n",
      "Processing 11 / 33\n",
      "Processing 12 / 33\n",
      "Processing 13 / 33\n",
      "Processing 14 / 33\n",
      "Processing 15 / 33\n",
      "Processing 16 / 33\n",
      "Processing 17 / 33\n",
      "Processing 18 / 33\n",
      "Processing 19 / 33\n",
      "Processing 20 / 33\n",
      "AUC: 0.6742424242424242, MRR: 0.6080808080808081, NDCG: 0.7052810072093831\n",
      "Processing 21 / 33\n",
      "Processing 22 / 33\n",
      "Processing 23 / 33\n",
      "Processing 24 / 33\n",
      "Processing 25 / 33\n",
      "Processing 26 / 33\n",
      "Processing 27 / 33\n",
      "Processing 28 / 33\n",
      "Processing 29 / 33\n",
      "Processing 30 / 33\n",
      "AUC: 0.6749999999999999, MRR: 0.602, NDCG: 0.700923963511536\n",
      "Processing 31 / 33\n",
      "Processing 32 / 33\n",
      "Error updating long-term memory: Error code: 400 - {'error': {'code': 'data_inspection_failed', 'param': None, 'message': 'Input data may contain inappropriate content.', 'type': 'data_inspection_failed'}, 'id': 'chatcmpl-54b4e3c7-3079-9915-8f7f-ce31637aecca', 'request_id': '54b4e3c7-3079-9915-8f7f-ce31637aecca'}\n",
      "Processing 33 / 33\n",
      "AUC: 0.6839622641509434, MRR: 0.6119496855345913, NDCG: 0.708418833501449\n"
     ]
    }
   ],
   "source": [
    "ExperimentFrame(\"evalagent\", \"qwen3-235b-a22b\", \"toy\").run()"
   ]
  }
 ],
 "metadata": {
  "kernelspec": {
   "display_name": "EvalAgent",
   "language": "python",
   "name": "python3"
  },
  "language_info": {
   "codemirror_mode": {
    "name": "ipython",
    "version": 3
   },
   "file_extension": ".py",
   "mimetype": "text/x-python",
   "name": "python",
   "nbconvert_exporter": "python",
   "pygments_lexer": "ipython3",
   "version": "3.10.10"
  }
 },
 "nbformat": 4,
 "nbformat_minor": 2
}
