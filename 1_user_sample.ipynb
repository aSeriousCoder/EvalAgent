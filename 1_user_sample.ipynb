{
 "cells": [
  {
   "cell_type": "code",
   "execution_count": 10,
   "metadata": {},
   "outputs": [],
   "source": [
    "\"\"\"\n",
    "build user samples from behaviors.tsv\n",
    "save to processed/sampled_users.json\n",
    "format:\n",
    "    [\n",
    "        {\n",
    "            \"history_news\": list of news_id,\n",
    "            \"tests\": list of {\n",
    "                \"news_ids\": list of news_id,\n",
    "                \"labels\": list of label\n",
    "            }\n",
    "        }\n",
    "    ]\n",
    "\"\"\"\n",
    "import torch\n",
    "import json\n",
    "import os\n",
    "import pickle\n",
    "import numpy as np\n",
    "import pandas as pd\n",
    "import time\n",
    "import random\n",
    "from tqdm import tqdm\n",
    "\n",
    "NUMBER_OF_NEGATIVE_NEWS = 4\n",
    "NUMBER_PER_GROUP = 3  # for demo, reset it for your own purpose\n",
    "\n",
    "target_dir = 'MIND/small/valid'\n",
    "target_file = os.path.join(target_dir, 'behaviors.tsv')"
   ]
  },
  {
   "cell_type": "code",
   "execution_count": 11,
   "metadata": {},
   "outputs": [],
   "source": [
    "# load target file as dataframe\n",
    "df = pd.read_csv(target_file, sep='\\t', header=None)"
   ]
  },
  {
   "cell_type": "code",
   "execution_count": 12,
   "metadata": {},
   "outputs": [
    {
     "data": {
      "text/html": [
       "<div>\n",
       "<style scoped>\n",
       "    .dataframe tbody tr th:only-of-type {\n",
       "        vertical-align: middle;\n",
       "    }\n",
       "\n",
       "    .dataframe tbody tr th {\n",
       "        vertical-align: top;\n",
       "    }\n",
       "\n",
       "    .dataframe thead th {\n",
       "        text-align: right;\n",
       "    }\n",
       "</style>\n",
       "<table border=\"1\" class=\"dataframe\">\n",
       "  <thead>\n",
       "    <tr style=\"text-align: right;\">\n",
       "      <th></th>\n",
       "      <th>0</th>\n",
       "      <th>1</th>\n",
       "      <th>2</th>\n",
       "      <th>3</th>\n",
       "      <th>4</th>\n",
       "    </tr>\n",
       "  </thead>\n",
       "  <tbody>\n",
       "    <tr>\n",
       "      <th>0</th>\n",
       "      <td>1</td>\n",
       "      <td>U80234</td>\n",
       "      <td>11/15/2019 12:37:50 PM</td>\n",
       "      <td>N55189 N46039 N51741 N53234 N11276 N264 N40716...</td>\n",
       "      <td>N28682-0 N48740-0 N31958-1 N34130-0 N6916-0 N5...</td>\n",
       "    </tr>\n",
       "    <tr>\n",
       "      <th>1</th>\n",
       "      <td>2</td>\n",
       "      <td>U60458</td>\n",
       "      <td>11/15/2019 7:11:50 AM</td>\n",
       "      <td>N58715 N32109 N51180 N33438 N54827 N28488 N611...</td>\n",
       "      <td>N20036-0 N23513-1 N32536-0 N46976-0 N35216-0 N...</td>\n",
       "    </tr>\n",
       "    <tr>\n",
       "      <th>2</th>\n",
       "      <td>3</td>\n",
       "      <td>U44190</td>\n",
       "      <td>11/15/2019 9:55:12 AM</td>\n",
       "      <td>N56253 N1150 N55189 N16233 N61704 N51706 N5303...</td>\n",
       "      <td>N36779-0 N62365-0 N58098-0 N5472-0 N13408-0 N5...</td>\n",
       "    </tr>\n",
       "    <tr>\n",
       "      <th>3</th>\n",
       "      <td>4</td>\n",
       "      <td>U87380</td>\n",
       "      <td>11/15/2019 3:12:46 PM</td>\n",
       "      <td>N63554 N49153 N28678 N23232 N43369 N58518 N444...</td>\n",
       "      <td>N6950-0 N60215-0 N6074-0 N11930-0 N6916-0 N248...</td>\n",
       "    </tr>\n",
       "    <tr>\n",
       "      <th>4</th>\n",
       "      <td>5</td>\n",
       "      <td>U9444</td>\n",
       "      <td>11/15/2019 8:25:46 AM</td>\n",
       "      <td>N51692 N18285 N26015 N22679 N55556</td>\n",
       "      <td>N5940-1 N23513-0 N49285-0 N23355-0 N19990-0 N3...</td>\n",
       "    </tr>\n",
       "  </tbody>\n",
       "</table>\n",
       "</div>"
      ],
      "text/plain": [
       "   0       1                       2  \\\n",
       "0  1  U80234  11/15/2019 12:37:50 PM   \n",
       "1  2  U60458   11/15/2019 7:11:50 AM   \n",
       "2  3  U44190   11/15/2019 9:55:12 AM   \n",
       "3  4  U87380   11/15/2019 3:12:46 PM   \n",
       "4  5   U9444   11/15/2019 8:25:46 AM   \n",
       "\n",
       "                                                   3  \\\n",
       "0  N55189 N46039 N51741 N53234 N11276 N264 N40716...   \n",
       "1  N58715 N32109 N51180 N33438 N54827 N28488 N611...   \n",
       "2  N56253 N1150 N55189 N16233 N61704 N51706 N5303...   \n",
       "3  N63554 N49153 N28678 N23232 N43369 N58518 N444...   \n",
       "4                 N51692 N18285 N26015 N22679 N55556   \n",
       "\n",
       "                                                   4  \n",
       "0  N28682-0 N48740-0 N31958-1 N34130-0 N6916-0 N5...  \n",
       "1  N20036-0 N23513-1 N32536-0 N46976-0 N35216-0 N...  \n",
       "2  N36779-0 N62365-0 N58098-0 N5472-0 N13408-0 N5...  \n",
       "3  N6950-0 N60215-0 N6074-0 N11930-0 N6916-0 N248...  \n",
       "4  N5940-1 N23513-0 N49285-0 N23355-0 N19990-0 N3...  "
      ]
     },
     "execution_count": 12,
     "metadata": {},
     "output_type": "execute_result"
    }
   ],
   "source": [
    "df.head()"
   ]
  },
  {
   "cell_type": "code",
   "execution_count": 13,
   "metadata": {},
   "outputs": [],
   "source": [
    "def parse_user(history_str, data_str):\n",
    "    history_news = history_str.split(' ')\n",
    "    test_data = [d.split('-') for d in data_str.split(' ')]\n",
    "    positive_news = [t[0] for t in test_data if t[1] == '1']\n",
    "    negative_news = [t[0] for t in test_data if t[1] == '0']\n",
    "    tests = []\n",
    "    for pos in positive_news:\n",
    "        # sample NUMBER_OF_NEGATIVE_NEWS negative news\n",
    "        negs = random.sample(negative_news, NUMBER_OF_NEGATIVE_NEWS)\n",
    "        tests.append({\n",
    "            'news_ids': [pos] + negs,\n",
    "            'labels': [1] + [0] * NUMBER_OF_NEGATIVE_NEWS\n",
    "        })\n",
    "    return {\n",
    "        'history_news': history_news,\n",
    "        'tests': tests\n",
    "    }"
   ]
  },
  {
   "cell_type": "code",
   "execution_count": 14,
   "metadata": {},
   "outputs": [
    {
     "name": "stderr",
     "output_type": "stream",
     "text": [
      "100%|██████████| 73152/73152 [00:05<00:00, 14238.08it/s]\n"
     ]
    }
   ],
   "source": [
    "all_users = []\n",
    "for uid in tqdm(range(len(df))):\n",
    "    history_str = df.iloc[uid][3]\n",
    "    data_str = df.iloc[uid][4]\n",
    "    try:\n",
    "        user_data = parse_user(history_str, data_str)\n",
    "        all_users.append(user_data)\n",
    "    except Exception as e:\n",
    "        continue"
   ]
  },
  {
   "cell_type": "code",
   "execution_count": 15,
   "metadata": {},
   "outputs": [
    {
     "name": "stdout",
     "output_type": "stream",
     "text": [
      "[17555, 13637, 8938, 6032, 4458, 3153, 2314, 1786, 1434, 1118, 806]\n"
     ]
    }
   ],
   "source": [
    "def get_groupid_by_length(length):\n",
    "    return min(length // 10, 10) if length < 110 else -1\n",
    "\n",
    "grouped_users = {id: [] for id in range(11)}\n",
    "for user in all_users:\n",
    "    group_id = get_groupid_by_length(len(user['history_news']))\n",
    "    if group_id >= 0:\n",
    "        grouped_users[group_id].append(user)\n",
    "print([len(grouped_users[id]) for id in range(11)])"
   ]
  },
  {
   "cell_type": "code",
   "execution_count": 16,
   "metadata": {},
   "outputs": [],
   "source": [
    "# random sample NUMBER_PER_GROUP users from each group\n",
    "sampled_users = []\n",
    "for gid in range(11):\n",
    "    sampled_users.extend(random.sample(grouped_users[gid], NUMBER_PER_GROUP))"
   ]
  },
  {
   "cell_type": "code",
   "execution_count": 17,
   "metadata": {},
   "outputs": [],
   "source": [
    "import json\n",
    "\n",
    "output_dir = 'toy/processed'\n",
    "os.makedirs(output_dir, exist_ok=True)\n",
    "with open(os.path.join(output_dir, 'sampled_users.json'), 'w') as f:\n",
    "    json.dump(sampled_users, f)"
   ]
  }
 ],
 "metadata": {
  "kernelspec": {
   "display_name": "EvalAgent",
   "language": "python",
   "name": "python3"
  },
  "language_info": {
   "codemirror_mode": {
    "name": "ipython",
    "version": 3
   },
   "file_extension": ".py",
   "mimetype": "text/x-python",
   "name": "python",
   "nbconvert_exporter": "python",
   "pygments_lexer": "ipython3",
   "version": "3.10.10"
  }
 },
 "nbformat": 4,
 "nbformat_minor": 2
}
